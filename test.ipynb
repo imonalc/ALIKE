{
 "cells": [
  {
   "cell_type": "code",
   "execution_count": 1,
   "metadata": {},
   "outputs": [
    {
     "name": "stdout",
     "output_type": "stream",
     "text": [
      "True\n",
      "11.7\n",
      "2.0.1+cu117\n",
      "1\n",
      "NVIDIA RTX A4500\n"
     ]
    }
   ],
   "source": [
    "import torch\n",
    "print(torch.cuda.is_available())\n",
    "print(torch.version.cuda)\n",
    "print(torch.__version__)\n",
    "print(torch.cuda.device_count())\n",
    "print(torch.cuda.get_device_name(0))"
   ]
  },
  {
   "cell_type": "code",
   "execution_count": 3,
   "metadata": {},
   "outputs": [],
   "source": [
    "from alike import ALike, configs\n",
    "import cv2\n",
    "import numpy as np\n",
    "import torch.nn.functional as F"
   ]
  },
  {
   "cell_type": "code",
   "execution_count": 4,
   "metadata": {},
   "outputs": [],
   "source": [
    "def computes_alike_keypoints(img, model_nm=\"alike-n\", device=\"cuda\", top_k=-1, scores_th=0.2, n_limit=5000):\n",
    "\n",
    "    img_permuted = img.permute(2, 1, 0)\n",
    "    model = ALike(**configs[model_nm],\n",
    "        device=device,\n",
    "        top_k=top_k,\n",
    "        scores_th=scores_th,\n",
    "        n_limit=n_limit)\n",
    "    img_rgb = cv2.cvtColor(img_permuted.numpy(), cv2.COLOR_BGR2RGB)\n",
    "    pred = model(img_rgb)\n",
    "    kpts = pred[\"keypoints\"]\n",
    "    desc = pred[\"descriptors\"]\n",
    "    scores = pred[\"scores\"]\n",
    "    score_map = pred[\"scores_map\"]\n",
    "    print(kpts.shape, desc.shape, scores.shape, score_map.shape)\n",
    "\n",
    "    kpt_details = np.zeros((kpts.shape[0],4))\n",
    "\n",
    "    kpt_details[:,0] = kpts[:,1]\n",
    "    kpt_details[:,1] = kpts[:,0]\n",
    "    kpt_details[:,2] = scores.squeeze()\n",
    "    kpt_details[:,3] = scores.squeeze()\n",
    "\n",
    "    if len(kpts)>0:\n",
    "        return torch.from_numpy(kpts), torch.from_numpy(desc)\n",
    "    return None"
   ]
  },
  {
   "cell_type": "code",
   "execution_count": null,
   "metadata": {},
   "outputs": [],
   "source": []
  }
 ],
 "metadata": {
  "kernelspec": {
   "display_name": "ALIKE",
   "language": "python",
   "name": "python3"
  },
  "language_info": {
   "codemirror_mode": {
    "name": "ipython",
    "version": 3
   },
   "file_extension": ".py",
   "mimetype": "text/x-python",
   "name": "python",
   "nbconvert_exporter": "python",
   "pygments_lexer": "ipython3",
   "version": "3.8.16"
  },
  "orig_nbformat": 4
 },
 "nbformat": 4,
 "nbformat_minor": 2
}
